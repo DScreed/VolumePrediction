{
 "cells": [
  {
   "cell_type": "markdown",
   "id": "c259537e-4a26-443b-a59f-bf2ac716044a",
   "metadata": {},
   "source": [
    "# Installs"
   ]
  },
  {
   "cell_type": "code",
   "execution_count": null,
   "id": "fcebec47-cd35-417e-bdb2-68d517f78189",
   "metadata": {
    "tags": []
   },
   "outputs": [],
   "source": [
    "!pip install numpy==1.19.5\n",
    "!pip install pandas==1.3.4\n",
    "!pip install statsmodels==0.13.2\n",
    "!pip install scikit-learn==1.0.2\n",
    "!pip install xgboost==1.5.2\n",
    "!pip install catboost==1.0.5\n",
    "!pip install deep-forest==0.1.5\n",
    "!pip install tensorflow==2.7.0\n",
    "!pip install keras-tuner --upgrade\n",
    "!pip install shap --upgrade"
   ]
  },
  {
   "cell_type": "markdown",
   "id": "f7db3e09-4215-4ae7-a3ae-e9e741777838",
   "metadata": {},
   "source": [
    "# Imports"
   ]
  },
  {
   "cell_type": "code",
   "execution_count": null,
   "id": "5420c60b-c66f-479e-916e-6da0a553dde1",
   "metadata": {
    "tags": []
   },
   "outputs": [],
   "source": [
    "from datetime import datetime, date, time\n",
    "# import onetick.py as otp\n",
    "import numpy as np\n",
    "import pandas as pd\n",
    "import matplotlib.pyplot as plt\n",
    "\n",
    "# from IPython.core.interactiveshell import InteractiveShell\n",
    "\n",
    "from statsmodels.graphics.tsaplots import plot_acf, plot_pacf\n",
    "\n",
    "from sklearn.model_selection import train_test_split, GridSearchCV, ParameterGrid\n",
    "from sklearn.preprocessing import MinMaxScaler\n",
    "from sklearn.decomposition import PCA\n",
    "\n",
    "from statsmodels.tsa.seasonal import STL\n",
    "\n",
    "from xgboost import XGBRegressor\n",
    "from catboost import CatBoostRegressor, Pool, cv, sum_models\n",
    "from deepforest import CascadeForestRegressor\n",
    "from tensorflow.keras.models import Sequential\n",
    "from tensorflow.keras.layers import Dense, Dropout\n",
    "from tensorflow.keras.callbacks import EarlyStopping\n",
    "import keras_tuner as kt\n",
    "from sklearn.ensemble import StackingRegressor\n",
    "\n",
    "from sklearn.metrics import r2_score, mean_absolute_error, mean_absolute_percentage_error\n",
    "import shap\n",
    "\n",
    "# InteractiveShell.ast_node_interactivity = \"all\"\n",
    "# pd.set_option('display.max_rows', 200)"
   ]
  },
  {
   "cell_type": "markdown",
   "id": "ec0345d6-7473-49d9-8d16-813312146077",
   "metadata": {},
   "source": [
    "# Loading data"
   ]
  },
  {
   "cell_type": "markdown",
   "id": "2010075d-bde4-489f-8106-5df27f6a8f12",
   "metadata": {},
   "source": [
    "## ETF"
   ]
  },
  {
   "cell_type": "code",
   "execution_count": null,
   "id": "def1bf80-0b53-4a45-b252-abe6850f518a",
   "metadata": {},
   "outputs": [],
   "source": [
    "# db = 'NYSE_TAQ'\n",
    "# tick_type = 'TRD'\n",
    "# symbols = ['QQQ']\n",
    "# start = otp.dt(2021, 4, 1, 9, 30)\n",
    "# end = otp.dt(2022, 4, 1, 16, 0)\n",
    "# bucket = 600\n",
    "# timezone='EST5EDT'\n",
    "\n",
    "# data = otp.DataSource(db = db, tick_type = tick_type, symbol = symbols, start = start, end = end, identify_input_ts=True)\n",
    "\n",
    "# data = data.agg({'VOLUME': otp.agg.sum(data['SIZE']),\n",
    "#                  'TICK_VOLUME': otp.agg.count()},\n",
    "#                  group_by = ['TICKER'],\n",
    "#                  bucket_interval = bucket)\n",
    "\n",
    "# data['hhmm'] = data['Time'].dt.strftime(format='%H:%M')\n",
    "\n",
    "# etf_df = otp.run(data, apply_times_daily=True, timezone=timezone)"
   ]
  },
  {
   "cell_type": "code",
   "execution_count": null,
   "id": "c48fafd8-9b55-4306-a69b-c502b2049b71",
   "metadata": {},
   "outputs": [],
   "source": [
    "# etf_df = etf_df.groupby(['Time', 'hhmm'], as_index=False)['VOLUME'].sum()\n",
    "# etf_df = etf_df[(etf_df['Time'].dt.dayofweek!=5) & (etf_df['Time'].dt.dayofweek!=6)].reset_index(drop=True)\n",
    "# etf_ts = etf_df.set_index('Time').copy(deep=True)\n",
    "\n",
    "# etf_ts"
   ]
  },
  {
   "cell_type": "code",
   "execution_count": null,
   "id": "b7f14543-5fa5-42a7-aaea-a15f16e554ea",
   "metadata": {},
   "outputs": [],
   "source": [
    "# etf_ts.to_csv('./data/etf_nq.csv')"
   ]
  },
  {
   "cell_type": "code",
   "execution_count": null,
   "id": "ac96c480-e33d-4666-b1c0-805016027dd8",
   "metadata": {},
   "outputs": [],
   "source": [
    "etf_ts = pd.read_csv('../data/etf_nq.csv').set_index('Time')\n",
    "etf_ts"
   ]
  },
  {
   "cell_type": "markdown",
   "id": "5a9edf33-586f-486c-bcaa-d4c94d27d19c",
   "metadata": {},
   "source": [
    "## Futures"
   ]
  },
  {
   "cell_type": "code",
   "execution_count": null,
   "id": "2aadf08e-7117-4d5f-974f-fc5c62ec357a",
   "metadata": {},
   "outputs": [],
   "source": [
    "# db = 'CME'\n",
    "# tick_type = 'TRD'\n",
    "# symbols = ['NQ\\H21', 'NQ\\M21', r'NQ\\U21', 'NQ\\Z21', 'NQ\\H22', 'NQ\\M22'] #H M U Z\n",
    "# start = otp.dt(2021, 4, 1, 9, 30)\n",
    "# end = otp.dt(2022, 4, 1, 16, 0)\n",
    "# bucket = 600\n",
    "# timezone='EST5EDT'\n",
    "\n",
    "# data = otp.DataSource(db = db, tick_type = tick_type, symbol = symbols, start = start, end = end, identify_input_ts=True)\n",
    "# data['TICKER'] = data['SYMBOL_NAME']\n",
    "# data = data.agg({'VOLUME': otp.agg.sum(data['SIZE']),\n",
    "#                  'TICK_VOLUME': otp.agg.count()},\n",
    "#                  group_by = ['TICKER'],\n",
    "#                  bucket_interval = bucket)\n",
    "\n",
    "# data['hhmm'] = data['Time'].dt.strftime(format='%H:%M')\n",
    "\n",
    "# fut_df = otp.run(data, apply_times_daily=True, timezone=timezone)"
   ]
  },
  {
   "cell_type": "code",
   "execution_count": null,
   "id": "c0952033-3bd7-42f5-8207-39d476575f29",
   "metadata": {},
   "outputs": [],
   "source": [
    "# fut_df = fut_df.groupby(['Time', 'hhmm'], as_index=False)['VOLUME'].sum()\n",
    "# fut_df = fut_df[(fut_df['Time'].dt.dayofweek!=5) & (fut_df['Time'].dt.dayofweek!=6)].reset_index(drop=True)\n",
    "# fut_ts = fut_df.set_index('Time').copy(deep=True)\n",
    "\n",
    "# fut_ts"
   ]
  },
  {
   "cell_type": "code",
   "execution_count": null,
   "id": "08d8233a-f231-421b-bd04-069e5b9d2139",
   "metadata": {},
   "outputs": [],
   "source": [
    "# fut_ts.to_csv('./data/fut_nq.csv')"
   ]
  },
  {
   "cell_type": "code",
   "execution_count": null,
   "id": "54f2c1ba-5a94-4424-9fb9-69429d55055a",
   "metadata": {},
   "outputs": [],
   "source": [
    "fut_ts = pd.read_csv('../data/fut_nq.csv').set_index('Time')\n",
    "fut_ts"
   ]
  },
  {
   "cell_type": "markdown",
   "id": "039f0a7e-d317-487a-b914-f0fb44911c63",
   "metadata": {},
   "source": [
    "## Options"
   ]
  },
  {
   "cell_type": "code",
   "execution_count": null,
   "id": "4764e0eb-86c2-4e54-adde-b34d935ba458",
   "metadata": {
    "tags": []
   },
   "outputs": [],
   "source": [
    "# db = 'US_OPTIONS'\n",
    "# tick_type = 'TRD'\n",
    "# start = otp.dt(2021, 4, 1)\n",
    "# end = otp.dt(2022, 4, 1)\n",
    "# bucket = 600\n",
    "# timezone='EST5EDT'\n",
    "\n",
    "# data = otp.DataSource(db=db, tick_type=tick_type, start=start, end=end, identify_input_ts=True)\n",
    "# data['Date'] = data['Time'].dt.date()\n",
    "\n",
    "# volume_date = data.agg({'VOLUME': otp.agg.sum(data['SIZE'])}, group_by=['Date'])\n",
    "# volume_10min = data.agg({'VOLUME': otp.agg.sum(data['SIZE'])}, bucket_interval = bucket)\n",
    "\n",
    "# # all_symbols = otp.Symbols(db='US_OPTIONS', date=start, keep_db=True, pattern='QQQ   220302%')\n",
    "# all_symbols = otp.Symbols(db='US_OPTIONS', start=start, end=end, keep_db=True, pattern='QQQ%')\n",
    "\n",
    "# symbols_date = otp.funcs.merge([volume_date], symbols=all_symbols, identify_input_ts=True)\n",
    "\n",
    "# most_traded_by_days = symbols_date.high('VOLUME', n=5, group_by=['Date'])\n",
    "# most_traded_by_days = otp.run(most_traded_by_days, timezone=timezone)\n",
    "\n",
    "# symbols = list(pd.unique(most_traded_by_days['SYMBOL_NAME']))\n",
    "# symbols_10min = otp.funcs.merge([volume_10min], symbols=symbols, identify_input_ts=True)\n",
    "# symbols_10min['hhmm'] = symbols_10min['Time'].dt.strftime(format='%H:%M')\n",
    "\n",
    "# symbols_10min['Date'] = symbols_10min['Time'].dt.date()\n",
    "# symbols_10min = symbols_10min.agg({'VOLUME': otp.agg.sum(symbols_10min['VOLUME'])}, group_by = ['Date', 'hhmm'])\n",
    "\n",
    "# opt_df = otp.run(symbols_10min, timezone=timezone)\n",
    "# opt_df"
   ]
  },
  {
   "cell_type": "code",
   "execution_count": null,
   "id": "1db67210-1dc5-4c8b-b21a-f01eac54156f",
   "metadata": {},
   "outputs": [],
   "source": [
    "# opt_df['Time'] = pd.to_datetime(opt_df['Date'].astype(str) + ' ' + opt_df['hhmm'])\n",
    "# opt_df = opt_df[(opt_df['Time'].dt.dayofweek!=5) & (opt_df['Time'].dt.dayofweek!=6)].reset_index(drop=True)\n",
    "# opt_ts = opt_df.loc[(opt_df['Time'].dt.time > time(9, 30)) & (opt_df['Time'].dt.time <= time(16, 0))]\n",
    "# opt_ts = opt_ts.drop('Date', axis=1).set_index('Time').copy(deep=True)\n",
    "# opt_ts"
   ]
  },
  {
   "cell_type": "code",
   "execution_count": null,
   "id": "2c8bee2d-5a0a-4cf8-bb42-fda92e289fe4",
   "metadata": {},
   "outputs": [],
   "source": [
    "# opt_ts.to_csv('./data/opt_nq.csv')"
   ]
  },
  {
   "cell_type": "code",
   "execution_count": null,
   "id": "10b3ff4e-a900-4fc2-9430-0de4d365016b",
   "metadata": {},
   "outputs": [],
   "source": [
    "opt_ts = pd.read_csv('../data/opt_nq.csv').set_index('Time')\n",
    "opt_ts"
   ]
  },
  {
   "cell_type": "markdown",
   "id": "980cd564-b824-459b-8b38-741666a4e44c",
   "metadata": {},
   "source": [
    "## Join together"
   ]
  },
  {
   "cell_type": "code",
   "execution_count": null,
   "id": "d28a3f44-1490-4414-826b-a3a87e26dece",
   "metadata": {},
   "outputs": [],
   "source": [
    "ts = fut_ts.join(etf_ts, lsuffix='_fut', rsuffix='_etf', how='inner')\n",
    "ts = ts.join(opt_ts, how='inner')\n",
    "ts = ts.rename(columns={'VOLUME':'VOLUME_opt'}).drop(['hhmm_fut','hhmm_etf'], axis=1)\n",
    "\n",
    "columns = ['VOLUME_fut', 'VOLUME_etf', 'VOLUME_opt']\n",
    "\n",
    "test_size = 0.1\n",
    "val_size = 0.1\n",
    "\n",
    "val_len = int(ts.shape[0]*val_size + 0.5)\n",
    "test_len = int(ts.shape[0]*test_size + 0.5)\n",
    "train_len = int(ts.shape[0] - val_len - test_len + 0.5)\n",
    "\n",
    "train_indexes = list(range(train_len))\n",
    "val_indexes = list(range(train_len, train_len+val_len))\n",
    "test_indexes = list(range(train_len+val_len, train_len+val_len+test_len))\n",
    "\n",
    "ts"
   ]
  },
  {
   "cell_type": "markdown",
   "id": "ea35724a-7e9d-4e96-8590-98d581a48766",
   "metadata": {},
   "source": [
    "# Data overview"
   ]
  },
  {
   "cell_type": "markdown",
   "id": "7c28c96f-ee9d-4fa0-84e2-2a35c0081c85",
   "metadata": {},
   "source": [
    "## Autocorrelation"
   ]
  },
  {
   "cell_type": "code",
   "execution_count": null,
   "id": "c9a88db9-dd03-43c1-bf5b-b88e6160e510",
   "metadata": {
    "tags": []
   },
   "outputs": [],
   "source": [
    "fig, ax = plt.subplots(figsize=(20, 8))\n",
    "plt_pacf = plot_acf(ts['VOLUME_fut'], ax = ax, lags = np.arange(150), auto_ylims = True)"
   ]
  },
  {
   "cell_type": "markdown",
   "id": "16d556da-0a22-4959-bea6-ecadcaccd3d4",
   "metadata": {},
   "source": [
    "# Preprocessing"
   ]
  },
  {
   "cell_type": "markdown",
   "id": "e41905d7-862a-481d-98b6-824d881202de",
   "metadata": {},
   "source": [
    "## Remove strong outliers"
   ]
  },
  {
   "cell_type": "code",
   "execution_count": null,
   "id": "4df433aa-b731-45e9-bff0-79ef39cf273f",
   "metadata": {},
   "outputs": [],
   "source": [
    "std_num=4\n",
    "for column in columns:\n",
    "    mean = ts.iloc[train_indexes].mean(numeric_only=True)[column]\n",
    "    std = ts.iloc[train_indexes].std(numeric_only=True)[column]\n",
    "    up_border = mean + std_num * std\n",
    "    down_border = mean - std_num * std\n",
    "    ts[column] = ts[column].where(ts[column] <= up_border, up_border)\n",
    "    ts[column] = ts[column].where(ts[column] >= down_border, down_border)"
   ]
  },
  {
   "cell_type": "markdown",
   "id": "7d23011a-b582-4311-b93b-d1a67498764f",
   "metadata": {},
   "source": [
    "## Remove seasonality"
   ]
  },
  {
   "cell_type": "markdown",
   "id": "c5db65ba-8162-4a57-9c11-82f6bfa6795a",
   "metadata": {},
   "source": [
    "### Intraday averaging"
   ]
  },
  {
   "cell_type": "code",
   "execution_count": null,
   "id": "b03aeb5a-e286-49a2-a71e-372f8f6a0625",
   "metadata": {
    "tags": []
   },
   "outputs": [],
   "source": [
    "bins = 39\n",
    "window_days = 5\n",
    "ts[['VOLUME_fut_agg', 'VOLUME_etf_agg', 'VOLUME_opt_agg']] = np.NaN\n",
    "all_hhmm = pd.unique(ts['hhmm'])\n",
    "\n",
    "for i in range(0, ts.shape[0]-bins*(window_days+1)+1, 39):\n",
    "    for hhmm in all_hhmm:\n",
    "        hhmm_df = ts.iloc[i:bins*window_days+i].loc[ts['hhmm']==hhmm]\n",
    "        for column in columns:\n",
    "            vol_agg = hhmm_df.loc[:,column].mean()\n",
    "            ts.iloc[i+bins*window_days:i+bins*(window_days+1)].loc[ts['hhmm']==hhmm, f'{column}_agg'] = vol_agg"
   ]
  },
  {
   "cell_type": "code",
   "execution_count": null,
   "id": "c30fb3e8-3cbd-4f17-8d8a-12930129aa7a",
   "metadata": {},
   "outputs": [],
   "source": [
    "ts_agg = ts.groupby('hhmm').mean()\n",
    "\n",
    "for column in columns:\n",
    "    fig, ax = plt.subplots(figsize=(20, 8))\n",
    "    ax = ts_agg[column].plot(ax=ax, title=column)\n",
    "    ax.set_xticks(list(range(ts_agg.shape[0])), list(ts_agg.index), rotation='vertical')\n",
    "    ax.grid()\n",
    "    ax.set_xlim(0, ts_agg.shape[0]-1)"
   ]
  },
  {
   "cell_type": "markdown",
   "id": "e071504b-f71c-4b63-916b-8b1d094c57c0",
   "metadata": {},
   "source": [
    "### Calculate: VOLUME-INTRADAY_AVERAGE"
   ]
  },
  {
   "cell_type": "code",
   "execution_count": null,
   "id": "f9b2b42e-b4a6-4b14-bfc1-aa58b9fbe865",
   "metadata": {},
   "outputs": [],
   "source": [
    "# ts_unseason = ts.join(ts_agg, on='hhmm', rsuffix='_agg').copy(deep=True)\n",
    "ts_unseason = ts.copy(deep=True)\n",
    "\n",
    "for column in columns:\n",
    "    ts_unseason[column] = ts_unseason[column] - ts_unseason[f'{column}_agg']\n",
    "\n",
    "ts_unseason.dropna(inplace=True)\n",
    "ts_unseason"
   ]
  },
  {
   "cell_type": "markdown",
   "id": "d721b950-466a-42ac-b89f-2accb6cd4621",
   "metadata": {},
   "source": [
    "# Features"
   ]
  },
  {
   "cell_type": "markdown",
   "id": "08e610f5-6eb0-4aaa-89dc-e5282879937e",
   "metadata": {},
   "source": [
    "## Partial autocorrelation"
   ]
  },
  {
   "cell_type": "code",
   "execution_count": null,
   "id": "63717d0a-73de-4ec8-9383-b11752c08623",
   "metadata": {},
   "outputs": [],
   "source": [
    "for column in columns:\n",
    "    fig, ax = plt.subplots(figsize=(20, 8))\n",
    "    plt_pacf = plot_pacf(ts_unseason[column], ax = ax, lags = np.arange(150), auto_ylims = True, method='ywm', title=column)"
   ]
  },
  {
   "cell_type": "markdown",
   "id": "8dbb089e-2274-4188-8732-bc055f5eb524",
   "metadata": {},
   "source": [
    "## Features"
   ]
  },
  {
   "cell_type": "markdown",
   "id": "525b95fe-bc36-4392-830a-8a9f3fc36acb",
   "metadata": {},
   "source": [
    "### Add lags"
   ]
  },
  {
   "cell_type": "code",
   "execution_count": null,
   "id": "44b12590-bf4f-4a37-8c32-2dcb2a3358cd",
   "metadata": {},
   "outputs": [],
   "source": [
    "df = ts_unseason[columns+['hhmm', 'VOLUME_fut_agg']].copy(deep=True)\n",
    "\n",
    "periods = [1, 2, 3, 4, 37, 38, 39, 40]\n",
    "target = ['VOLUME_fut']\n",
    "features_columns = []\n",
    "for column in columns:\n",
    "    for lag in periods:\n",
    "        feature_col_name = f'{column}_lag_{lag}'\n",
    "        df[feature_col_name] = df.shift(lag)[column]\n",
    "        features_columns.append(feature_col_name)\n",
    "\n",
    "df.dropna(inplace=True)\n",
    "df.reset_index(drop=True, inplace=True)\n",
    "df"
   ]
  },
  {
   "cell_type": "markdown",
   "id": "ff3cdecd-9fd5-4c01-a8a2-72b9cb40b319",
   "metadata": {},
   "source": [
    "### Features importance"
   ]
  },
  {
   "cell_type": "code",
   "execution_count": null,
   "id": "c9d4c7e6-224c-4a46-b8db-82b02316c528",
   "metadata": {},
   "outputs": [],
   "source": [
    "cat = CatBoostRegressor(iterations=100)\n",
    "cat.fit(df[features_columns], df[target], verbose=0, plot=False)\n",
    "\n",
    "explainer = shap.TreeExplainer(cat)\n",
    "shap_values=explainer.shap_values(Pool(df[features_columns], df[target]))\n",
    "shap.summary_plot(shap_values, df[features_columns])\n",
    "\n",
    "top_features = pd.DataFrame(shap_values, columns=df[features_columns].columns).apply(lambda x: abs(x)).sum().sort_values(ascending=False)[:10].index\n",
    "top_features"
   ]
  },
  {
   "cell_type": "markdown",
   "id": "01331cfb-5821-4202-bc12-322b5fa07f67",
   "metadata": {},
   "source": [
    "# Splitting"
   ]
  },
  {
   "cell_type": "code",
   "execution_count": null,
   "id": "836c736e-9851-4a09-ae6d-43734b0a9987",
   "metadata": {
    "tags": []
   },
   "outputs": [],
   "source": [
    "val_size /= (1 - test_size)\n",
    "x_train, x_test, y_train, y_test = train_test_split(df[top_features], df[target], test_size=test_size, shuffle=False)\n",
    "x_train, x_val, y_train, y_val = train_test_split(x_train, y_train, test_size=val_size, shuffle=False)"
   ]
  },
  {
   "cell_type": "code",
   "execution_count": null,
   "id": "7b25dc2b-3cca-4d1f-9986-a9ad3b5fc5bf",
   "metadata": {},
   "outputs": [],
   "source": [
    "x_train"
   ]
  },
  {
   "cell_type": "code",
   "execution_count": null,
   "id": "e78ffcae-b922-40f4-81a5-819353a7eeeb",
   "metadata": {},
   "outputs": [],
   "source": [
    "y_train"
   ]
  },
  {
   "cell_type": "code",
   "execution_count": null,
   "id": "6b2cb258-1f33-4c59-86f6-fd279998f2e2",
   "metadata": {},
   "outputs": [],
   "source": [
    "x_train.index, x_val.index, x_test.index"
   ]
  },
  {
   "cell_type": "markdown",
   "id": "6f005f7a-0dc3-449a-93af-1d84ba0502c4",
   "metadata": {},
   "source": [
    "# Scaling"
   ]
  },
  {
   "cell_type": "code",
   "execution_count": null,
   "id": "fb8fe591-4151-43a8-b3a7-d5bc370f6d9c",
   "metadata": {},
   "outputs": [],
   "source": [
    "scaler = MinMaxScaler()\n",
    "scaler.fit(x_train)\n",
    "\n",
    "x_train = pd.DataFrame(data=scaler.transform(x_train), index=x_train.index, columns=x_train.columns)\n",
    "x_val = pd.DataFrame(data=scaler.transform(x_val), index=x_val.index, columns=x_val.columns)\n",
    "x_test = pd.DataFrame(data=scaler.transform(x_test), index=x_test.index, columns=x_test.columns)"
   ]
  },
  {
   "cell_type": "code",
   "execution_count": null,
   "id": "7798e3ef",
   "metadata": {
    "pycharm": {
     "name": "#%%\n"
    }
   },
   "outputs": [],
   "source": [
    "x_train"
   ]
  },
  {
   "cell_type": "markdown",
   "id": "b7eb58d4-cb97-4174-9119-7b829de66122",
   "metadata": {},
   "source": [
    "# Training - Prediction"
   ]
  },
  {
   "cell_type": "markdown",
   "id": "d5122cb4-df19-4406-a6ca-41f776f962a7",
   "metadata": {},
   "source": [
    "## XGBoost"
   ]
  },
  {
   "cell_type": "code",
   "execution_count": null,
   "id": "6b6ae2f9-45de-479f-a222-14795bbdfbdb",
   "metadata": {},
   "outputs": [],
   "source": [
    "xgb = XGBRegressor(nthread=4, n_estimators=300, max_depth=1, min_child_weight=6, learning_rate=0.08)\n",
    "xgb.fit(x_train, y_train, eval_set=[(x_val, y_val)], verbose=0)"
   ]
  },
  {
   "cell_type": "code",
   "execution_count": null,
   "id": "7b493da1-cbf3-4456-b03d-d80e349c8685",
   "metadata": {},
   "outputs": [],
   "source": [
    "prediction_xgb = pd.DataFrame(xgb.predict(x_test), index=x_test.index, columns=['prediction'])\n",
    "\n",
    "tdf_test = prediction_xgb.join(df)[['prediction','VOLUME_fut_agg', 'VOLUME_fut']].copy(deep=True)\n",
    "tdf_test['VOLUME_prediction'] = tdf_test['prediction'] + tdf_test['VOLUME_fut_agg']\n",
    "tdf_test['VOLUME_original'] = tdf_test['VOLUME_fut'] + tdf_test['VOLUME_fut_agg']\n",
    "\n",
    "tdf_test['VOLUME_original'].plot(figsize=[20, 8], legend=True)\n",
    "tdf_test['VOLUME_prediction'].plot(figsize=[20, 8], legend=True)\n",
    "\n",
    "std_orig = tdf_test.std(numeric_only=True)['VOLUME_original']\n",
    "r2_xgb = r2_score(tdf_test['VOLUME_original'], tdf_test['VOLUME_prediction'])\n",
    "mae_xgb = mean_absolute_error(tdf_test['VOLUME_original'], tdf_test['VOLUME_prediction'])\n",
    "mape_xgb = mean_absolute_percentage_error(tdf_test['VOLUME_original'], tdf_test['VOLUME_prediction'])\n",
    "\n",
    "print('StdDev:', std_orig)\n",
    "print('MAE/StdDev', mae_xgb/std_orig*100)\n",
    "print('R2, MAE, MAPE:')\n",
    "(r2_xgb, mae_xgb, mape_xgb)"
   ]
  },
  {
   "cell_type": "code",
   "execution_count": null,
   "id": "2d7bb168-1363-4df0-83cf-079a63b5a89d",
   "metadata": {},
   "outputs": [],
   "source": [
    "tdf_test.iloc[:500]['VOLUME_original'].plot(figsize=[20, 8], legend=True)\n",
    "tdf_test.iloc[:500]['VOLUME_prediction'].plot(figsize=[20, 8], legend=True)"
   ]
  },
  {
   "cell_type": "code",
   "execution_count": null,
   "id": "03b8ac18-7e41-4f74-b71c-b9a087049101",
   "metadata": {
    "tags": []
   },
   "outputs": [],
   "source": [
    "# Optimization\n",
    "# xgb = XGBRegressor(nthread=8)\n",
    "# param_grid = {\n",
    "#     'max_depth': [1],\n",
    "#     'min_child_weight': [7],\n",
    "#     'n_estimators': [250],\n",
    "#     'learning_rate': [0.09]\n",
    "# }\n",
    "# # 100, 600, 50\n",
    "# # 0.01, 0.02, 0.05, 0.1, 0.15\n",
    "# gs = GridSearchCV(\n",
    "#     estimator=xgb,\n",
    "#     param_grid=param_grid,\n",
    "#     cv=5, \n",
    "#     n_jobs=8, \n",
    "#     scoring='neg_root_mean_squared_error',\n",
    "#     verbose=2\n",
    "# )\n",
    "\n",
    "# fitted_model = gs.fit(x_train, y_train, eval_set=[(x_val, y_val)], verbose=0)"
   ]
  },
  {
   "cell_type": "code",
   "execution_count": null,
   "id": "ca572208-d2f4-4d11-bbe6-8ce555a33957",
   "metadata": {},
   "outputs": [],
   "source": [
    "# pd.DataFrame(gs.cv_results_).sort_values('mean_test_score', ascending=False)"
   ]
  },
  {
   "cell_type": "markdown",
   "id": "155c38c1-c7bf-483a-85be-f05782e55748",
   "metadata": {},
   "source": [
    "## CatBoost"
   ]
  },
  {
   "cell_type": "code",
   "execution_count": null,
   "id": "5bec6392-bac7-48ca-a4dc-38aaff93e995",
   "metadata": {},
   "outputs": [],
   "source": [
    "# cat = CatBoostRegressor(learning_rate=0.08, depth=4, l2_leaf_reg=1, iterations=1000)\n",
    "# cat.fit(x_train, y_train, eval_set=Pool(x_val, y_val), use_best_model=True, verbose=0, plot=True)\n",
    "\n",
    "param_grid = {'depth': [4], 'l2_leaf_reg': [1], 'learning_rate': [0.1], 'models_num': [10], 'early_stopping_rounds': [30]}\n",
    "for idx, params in enumerate(ParameterGrid(param_grid)):\n",
    "    models_num = params['models_num']\n",
    "    cv_dataset = Pool(data=pd.concat([x_train, x_val]), label=pd.concat([y_train, y_val]))\n",
    "\n",
    "    cat_params = {\"iterations\": 1000,\n",
    "                  \"depth\": params['depth'],\n",
    "                  \"l2_leaf_reg\": params['l2_leaf_reg'],\n",
    "                  \"learning_rate\": params['learning_rate'],\n",
    "                  \"loss_function\": \"MAE\",\n",
    "                  \"custom_metric\": 'R2',\n",
    "                  # \"eval_metric\": 'BalancedAccuracy',\n",
    "                  \"use_best_model\": True,\n",
    "                  \"verbose\": False}\n",
    "\n",
    "    res = cv(cv_dataset,\n",
    "             cat_params,\n",
    "             fold_count=models_num,\n",
    "             shuffle=False,\n",
    "             early_stopping_rounds=params['early_stopping_rounds'],\n",
    "             type='TimeSeries ',\n",
    "             return_models=True,\n",
    "             plot = True,\n",
    "             logging_level='Silent')\n",
    "    print(params)\n",
    "    print(res[0]['test-MAE-mean'].min())"
   ]
  },
  {
   "cell_type": "code",
   "execution_count": null,
   "id": "b38be6f8-548c-4c6c-833c-9724a4cf154d",
   "metadata": {},
   "outputs": [],
   "source": [
    "cat = sum_models(res[1], [1/models_num]*models_num)\n",
    "    \n",
    "prediction_cat = pd.DataFrame(cat.predict(x_test), index=x_test.index, columns=['prediction'])\n",
    "\n",
    "tdf_test = prediction_cat.join(df)[['prediction','VOLUME_fut_agg', 'VOLUME_fut']].copy(deep=True)\n",
    "tdf_test['VOLUME_prediction'] = tdf_test['prediction'] + tdf_test['VOLUME_fut_agg']\n",
    "tdf_test['VOLUME_original'] = tdf_test['VOLUME_fut'] + tdf_test['VOLUME_fut_agg']\n",
    "\n",
    "tdf_test['VOLUME_original'].plot(figsize=[20, 8], legend=True)\n",
    "tdf_test['VOLUME_prediction'].plot(figsize=[20, 8], legend=True)\n",
    "\n",
    "std_orig = tdf_test.std(numeric_only=True)['VOLUME_original']\n",
    "r2_cat = r2_score(tdf_test['VOLUME_original'], tdf_test['VOLUME_prediction'])\n",
    "mae_cat = mean_absolute_error(tdf_test['VOLUME_original'], tdf_test['VOLUME_prediction'])\n",
    "mape_cat = mean_absolute_percentage_error(tdf_test['VOLUME_original'], tdf_test['VOLUME_prediction'])\n",
    "\n",
    "print('StdDev:', std_orig)\n",
    "print('MAE/StdDev', mae_cat/std_orig*100)\n",
    "print('R2, MAE, MAPE:')\n",
    "print(r2_cat, mae_cat, mape_cat)"
   ]
  },
  {
   "cell_type": "code",
   "execution_count": null,
   "id": "554ce22f-3e2e-45f8-b010-56f16d669889",
   "metadata": {},
   "outputs": [],
   "source": [
    "tdf_test.iloc[:500]['VOLUME_original'].plot(figsize=[20, 8], legend=True)\n",
    "tdf_test.iloc[:500]['VOLUME_prediction'].plot(figsize=[20, 8], legend=True)"
   ]
  },
  {
   "cell_type": "code",
   "execution_count": null,
   "id": "7692e1f3-4bd3-4a68-9a53-3883db4fb934",
   "metadata": {
    "tags": []
   },
   "outputs": [],
   "source": [
    "# cat = CatBoostRegressor()\n",
    "# grid = {'learning_rate': [0.01, 0.02, 0.03, 0.04, 0.05, 0.06, 0.07, 0.08, 0.09, 0.1],\n",
    "#         'depth': [1, 2, 3, 4, 5, 6, 7, 8, 9, 10],\n",
    "#         'l2_leaf_reg': [1, 2, 3, 4, 5, 6, 7, 8, 9, 10]}\n",
    "\n",
    "# grid_search_result = cat.grid_search(grid, \n",
    "#                                        X=pd.concat([x_train, x_val]), \n",
    "#                                        y=pd.concat([y_train, y_val]),\n",
    "#                                        cv=5,\n",
    "#                                        shuffle=False,\n",
    "#                                        verbose=False,\n",
    "#                                        plot=True)"
   ]
  },
  {
   "cell_type": "code",
   "execution_count": null,
   "id": "ae2231e9-cd6c-4dcf-a9b5-41ee0752728b",
   "metadata": {},
   "outputs": [],
   "source": [
    "# pd.DataFrame(grid_search_result)"
   ]
  },
  {
   "cell_type": "markdown",
   "id": "3244427e-51b7-48b6-8d6a-497b681ac8ca",
   "metadata": {},
   "source": [
    "## DNN"
   ]
  },
  {
   "cell_type": "code",
   "execution_count": null,
   "id": "179fbba4-0335-48d3-92c8-d876b35318b5",
   "metadata": {
    "tags": []
   },
   "outputs": [],
   "source": [
    "class DNN(kt.HyperModel):\n",
    "    def build(self, hp):\n",
    "        from tensorflow.keras.models import Sequential\n",
    "        from tensorflow.keras.layers import Dense, Dropout\n",
    "\n",
    "        model = Sequential()\n",
    "        model.add(Dense(units=hp.Choice('units1', [4, 8, 16, 32]), activation = hp.Choice('activation1', ['relu', 'elu'])))\n",
    "        # model.add(Dropout(0.1))     \n",
    "        model.add(Dense(units=hp.Choice('units2', [4, 8, 16, 32]), activation = hp.Choice('activation2', ['relu', 'elu'])))\n",
    "        # model.add(Dropout(0.1))     \n",
    "        model.add(Dense(1))\n",
    "\n",
    "        model.compile(loss = 'mean_squared_error', optimizer = 'RMSprop')\n",
    "        return model\n",
    "\n",
    "    def fit(self, hp, model, *args, **kwargs):\n",
    "        return model.fit(\n",
    "            *args, \n",
    "            epochs=hp.Choice('epochs', [256, 512, 1024]), \n",
    "            batch_size=hp.Choice('batch_size', [16, 32, 64, 128]),\n",
    "            shuffle=False, \n",
    "            verbose=0,\n",
    "            **kwargs\n",
    "        )\n",
    "\n",
    "tuner = kt.RandomSearch(\n",
    "    DNN(),\n",
    "    objective='val_loss',\n",
    "    max_trials = 100,\n",
    "    directory='./dnn_checkpoints/',\n",
    "    overwrite=True,\n",
    ")\n",
    "early_stopping = EarlyStopping(monitor='val_loss', patience=32, restore_best_weights=True)\n",
    "tuner.search(x_train, y_train, validation_data=(x_val, y_val), callbacks=[early_stopping])"
   ]
  },
  {
   "cell_type": "code",
   "execution_count": null,
   "id": "bda5ece3-7efd-4d01-a2b8-9eff7fe2bfe1",
   "metadata": {
    "tags": []
   },
   "outputs": [],
   "source": [
    "tuner.results_summary()"
   ]
  },
  {
   "cell_type": "code",
   "execution_count": null,
   "id": "57086d15-b668-4f61-abf1-7e30bcdc97e8",
   "metadata": {
    "tags": []
   },
   "outputs": [],
   "source": [
    "dnn_models = tuner.get_best_models(num_models=3)"
   ]
  },
  {
   "cell_type": "code",
   "execution_count": null,
   "id": "4fef9e8a-f354-4063-9d78-15fb3a66acdb",
   "metadata": {
    "tags": []
   },
   "outputs": [],
   "source": [
    "prediction_dnn = pd.DataFrame(pd.concat([pd.DataFrame(dnn.predict(x_test), index=x_test.index) for dnn in dnn_models], axis=1).mean(axis=1), columns=['prediction'])\n",
    "\n",
    "tdf_test = prediction_dnn.join(df)[['prediction','VOLUME_fut_agg', 'VOLUME_fut']].copy(deep=True)\n",
    "tdf_test['VOLUME_prediction'] = tdf_test['prediction'] + tdf_test['VOLUME_fut_agg']\n",
    "tdf_test['VOLUME_original'] = tdf_test['VOLUME_fut'] + tdf_test['VOLUME_fut_agg']\n",
    "\n",
    "tdf_test['VOLUME_original'].plot(figsize=[20, 8], legend=True)\n",
    "tdf_test['VOLUME_prediction'].plot(figsize=[20, 8], legend=True)\n",
    "\n",
    "std_orig = tdf_test.std(numeric_only=True)['VOLUME_original']\n",
    "r2_dnn = r2_score(tdf_test['VOLUME_original'], tdf_test['VOLUME_prediction'])\n",
    "mae_dnn = mean_absolute_error(tdf_test['VOLUME_original'], tdf_test['VOLUME_prediction'])\n",
    "mape_dnn = mean_absolute_percentage_error(tdf_test['VOLUME_original'], tdf_test['VOLUME_prediction'])\n",
    "\n",
    "print('StdDev:', std_orig)\n",
    "print('MAE/StdDev', mae_dnn/std_orig*100)\n",
    "print('R2, MAE, MAPE:')\n",
    "(r2_dnn, mae_dnn, mape_dnn)"
   ]
  },
  {
   "cell_type": "code",
   "execution_count": null,
   "id": "b84ecdac-0e46-4b01-b70d-1e53170defee",
   "metadata": {},
   "outputs": [],
   "source": [
    "tdf_test.iloc[:500]['VOLUME_original'].plot(figsize=[20, 8], legend=True)\n",
    "tdf_test.iloc[:500]['VOLUME_prediction'].plot(figsize=[20, 8], legend=True)"
   ]
  },
  {
   "cell_type": "markdown",
   "id": "5ff0fd8e-0ef6-42eb-9da0-9dc8d05af09a",
   "metadata": {},
   "source": [
    "## Deep Forest (Cascade Forest)"
   ]
  },
  {
   "cell_type": "code",
   "execution_count": null,
   "id": "6f95d2d5-4d17-46d3-95b1-f9eee0572524",
   "metadata": {},
   "outputs": [],
   "source": [
    "ccd = CascadeForestRegressor(n_jobs=8, n_estimators=3, n_trees=300, max_layers=15)\n",
    "ccd.fit(pd.concat([x_train, x_val]).values, np.ravel(pd.concat([y_train, y_val]).values))"
   ]
  },
  {
   "cell_type": "code",
   "execution_count": null,
   "id": "8d401b0d-6e63-4c0e-904d-ef1fc79770be",
   "metadata": {},
   "outputs": [],
   "source": [
    "prediction_ccd = pd.DataFrame(ccd.predict(x_test), index=x_test.index, columns=['prediction'])\n",
    "\n",
    "tdf_test = prediction_ccd.join(df)[['prediction','VOLUME_fut_agg', 'VOLUME_fut']].copy(deep=True)\n",
    "tdf_test['VOLUME_prediction'] = tdf_test['prediction'] + tdf_test['VOLUME_fut_agg']\n",
    "tdf_test['VOLUME_original'] = tdf_test['VOLUME_fut'] + tdf_test['VOLUME_fut_agg']\n",
    "\n",
    "tdf_test['VOLUME_original'].plot(figsize=[20, 8], legend=True)\n",
    "tdf_test['VOLUME_prediction'].plot(figsize=[20, 8], legend=True)\n",
    "\n",
    "std_orig = tdf_test.std(numeric_only=True)['VOLUME_original']\n",
    "r2_ccd = r2_score(tdf_test['VOLUME_original'], tdf_test['VOLUME_prediction'])\n",
    "mae_ccd = mean_absolute_error(tdf_test['VOLUME_original'], tdf_test['VOLUME_prediction'])\n",
    "mape_ccd = mean_absolute_percentage_error(tdf_test['VOLUME_original'], tdf_test['VOLUME_prediction'])\n",
    "\n",
    "print('StdDev:', std_orig)\n",
    "print('MAE/StdDev', mae_ccd/std_orig*100)\n",
    "print('R2, MAE, MAPE:')\n",
    "(r2_ccd, mae_ccd, mape_ccd)"
   ]
  },
  {
   "cell_type": "code",
   "execution_count": null,
   "id": "47ab79b0-8ddd-4e06-804a-6c635eef6fb7",
   "metadata": {
    "tags": []
   },
   "outputs": [],
   "source": [
    "# # Optimization\n",
    "# res = {'params':[],\n",
    "#       'metrics':[]}\n",
    "\n",
    "# param_grid = {'n_estimators': [1,2,3], 'n_trees': [250,300,350], 'max_layers': [15, 25, 35]}\n",
    "# for idx, params in enumerate(ParameterGrid(param_grid)):\n",
    "#     print(params)\n",
    "#     r2_ccd, mae_ccd, mape_ccd = 0, 0, 0\n",
    "#     for j in range(1,11):\n",
    "#         ccd = CascadeForestRegressor(n_jobs=8, n_estimators=params['n_estimators'], n_trees=params['n_trees'], max_layers=params['max_layers'], verbose=0)\n",
    "#         ccd.fit(pd.concat([x_train]).values, np.ravel(pd.concat([y_train]).values))\n",
    "\n",
    "#         prediction_ccd = pd.DataFrame(ccd.predict(x_val), index=x_val.index, columns=['prediction'])\n",
    "\n",
    "#         tdf_test = prediction_ccd.join(df)[['prediction','VOLUME_fut_agg', 'VOLUME_fut']].copy(deep=True)\n",
    "#         tdf_test['VOLUME_prediction'] = tdf_test['prediction'] + tdf_test['VOLUME_fut_agg']\n",
    "#         tdf_test['VOLUME_original'] = tdf_test['VOLUME_fut'] + tdf_test['VOLUME_fut_agg']\n",
    "\n",
    "#         r2_ccd += r2_score(tdf_test['VOLUME_original'], tdf_test['VOLUME_prediction'])\n",
    "#         mae_ccd += mean_absolute_error(tdf_test['VOLUME_original'], tdf_test['VOLUME_prediction'])\n",
    "#         mape_ccd += mean_absolute_percentage_error(tdf_test['VOLUME_original'], tdf_test['VOLUME_prediction'])\n",
    "\n",
    "#     r2_ccd /= 10\n",
    "#     mae_ccd /=10\n",
    "#     mape_ccd /= 10\n",
    "#     print('R2, MAE, MAPE:')\n",
    "#     print(r2_ccd, mae_ccd, mape_ccd)"
   ]
  },
  {
   "cell_type": "markdown",
   "id": "ba3b7a7f-94e5-4f97-ab5f-114ee6dcb394",
   "metadata": {},
   "source": [
    "## Totals"
   ]
  },
  {
   "cell_type": "code",
   "execution_count": null,
   "id": "80ffc1ba-a848-4f62-807c-34606137694b",
   "metadata": {},
   "outputs": [],
   "source": [
    "print('XGBoost:', r2_xgb, mae_xgb, mape_xgb)\n",
    "print('CatBoost:', r2_cat, mae_cat, mape_cat)\n",
    "print('DNN:', r2_dnn, mae_dnn, mape_dnn)\n",
    "print('Cascade Forest:', r2_ccd, mae_ccd, mape_ccd)"
   ]
  },
  {
   "cell_type": "markdown",
   "id": "37293573-162b-438d-b7ee-a70d540a7a39",
   "metadata": {},
   "source": [
    "# Ensemble model"
   ]
  },
  {
   "cell_type": "raw",
   "id": "e88a4919-34d1-4e33-acd3-51d581dbe71f",
   "metadata": {
    "pycharm": {
     "name": "#%% raw\n"
    }
   },
   "source": [
    "The section was deleted!"
   ]
  }
 ],
 "metadata": {
  "kernelspec": {
   "display_name": "Python 3 (ipykernel)",
   "language": "python",
   "name": "python3"
  },
  "language_info": {
   "codemirror_mode": {
    "name": "ipython",
    "version": 3
   },
   "file_extension": ".py",
   "mimetype": "text/x-python",
   "name": "python",
   "nbconvert_exporter": "python",
   "pygments_lexer": "ipython3",
   "version": "3.9.10"
  }
 },
 "nbformat": 4,
 "nbformat_minor": 5
}